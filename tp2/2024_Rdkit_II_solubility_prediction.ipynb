{
  "cells": [
    {
      "cell_type": "markdown",
      "metadata": {},
      "source": [
        "juliette.jin"
      ]
    },
    {
      "cell_type": "markdown",
      "metadata": {
        "id": "VrUQnEXXvf2o"
      },
      "source": [
        "# Install rdkit\n",
        "\n",
        "using pypi or whatever install rdkit\n"
      ]
    },
    {
      "cell_type": "code",
      "execution_count": 1,
      "metadata": {
        "id": "9qJCFDsxp3wJ"
      },
      "outputs": [
        {
          "name": "stdout",
          "output_type": "stream",
          "text": [
            "Requirement already satisfied: pypi in /home/jubuntu/anaconda3/envs/mlbio/lib/python3.12/site-packages (2.1)\n"
          ]
        }
      ],
      "source": [
        "! pip install pypi"
      ]
    },
    {
      "cell_type": "code",
      "execution_count": 2,
      "metadata": {},
      "outputs": [],
      "source": [
        "import rdkit"
      ]
    },
    {
      "cell_type": "markdown",
      "metadata": {
        "id": "TYs-WClCqSsy"
      },
      "source": [
        "## Ex 1. Read molecules from SMILES\n",
        "\n",
        "SMILES (Simplified Molecular-Input Line-Entry System) is a popular method for specifying molecules with text string. The RDkit library provides utilities to read molecules from SMILES.\n",
        "\n",
        "\n",
        "Paracetamol (Acetaminophen) is a commonly used medicine that can help treat pain and reduce a high temperature. It's given by the chemical formula $ C_8H_9N O_2$ and its SMILES is \"CC(=O)NC1=CC=C(O)C=C1\".\n",
        "\n",
        "\n",
        "1. Create the paracetamol molecule from its SMILES using the rdkit.Chem.MolFromSmiles class.\n",
        "\n",
        "\n",
        "2. Visualize its structure (it's sufficient to print the paracetamol molecule or to use rdkit.Chem.Draw.MolToImage())\n",
        "\n",
        "\n",
        "3. Print out the number of atoms. Did you get 11 ? It should be 20 atoms ? Why ?\n",
        "\n",
        "\n",
        "\n",
        "4. Print out the list of atoms.\n",
        "\n",
        "\n",
        "5. Find the number of bonds.\n",
        "\n"
      ]
    },
    {
      "cell_type": "code",
      "execution_count": 3,
      "metadata": {
        "id": "ccbbFmLOqDJV"
      },
      "outputs": [
        {
          "data": {
            "image/jpeg": "[encoded data removed]",
            "image/png": "[encoded data removed]",
            "text/plain": [
              "<PIL.PngImagePlugin.PngImageFile image mode=RGB size=300x300>"
            ]
          },
          "execution_count": 3,
          "metadata": {},
          "output_type": "execute_result"
        }
      ],
      "source": [
        "from rdkit.Chem import MolFromSmiles\n",
        "from rdkit.Chem import Draw\n",
        "\n",
        "paracetamol = \"CC(=O)NC1=CC=C(C=C1)O\"\n",
        "mol = MolFromSmiles(paracetamol)\n",
        "Draw.MolToImage(mol)"
      ]
    },
    {
      "cell_type": "code",
      "execution_count": 4,
      "metadata": {},
      "outputs": [
        {
          "data": {
            "text/plain": [
              "11"
            ]
          },
          "execution_count": 4,
          "metadata": {},
          "output_type": "execute_result"
        }
      ],
      "source": [
        "mol.GetNumAtoms()"
      ]
    },
    {
      "cell_type": "code",
      "execution_count": 5,
      "metadata": {},
      "outputs": [
        {
          "data": {
            "text/plain": [
              "20"
            ]
          },
          "execution_count": 5,
          "metadata": {},
          "output_type": "execute_result"
        }
      ],
      "source": [
        "from rdkit.Chem import AddHs\n",
        "\n",
        "molH = AddHs(mol)\n",
        "molH.GetNumAtoms()"
      ]
    },
    {
      "cell_type": "markdown",
      "metadata": {},
      "source": [
        "It should be 20 atoms. The reason is that the SMILES string does not contain the hydrogens."
      ]
    },
    {
      "cell_type": "code",
      "execution_count": 6,
      "metadata": {},
      "outputs": [
        {
          "name": "stdout",
          "output_type": "stream",
          "text": [
            "C\n",
            "C\n",
            "O\n",
            "N\n",
            "C\n",
            "C\n",
            "C\n",
            "C\n",
            "C\n",
            "C\n",
            "O\n",
            "H\n",
            "H\n",
            "H\n",
            "H\n",
            "H\n",
            "H\n",
            "H\n",
            "H\n",
            "H\n"
          ]
        }
      ],
      "source": [
        "for atom in molH.GetAtoms():\n",
        "    print(atom.GetSymbol())"
      ]
    },
    {
      "cell_type": "code",
      "execution_count": 7,
      "metadata": {},
      "outputs": [
        {
          "name": "stdout",
          "output_type": "stream",
          "text": [
            "20\n",
            "11\n"
          ]
        }
      ],
      "source": [
        "bonds = molH.GetNumBonds()\n",
        "print(bonds)\n",
        "# quel bound est le bon\n",
        "print(mol.GetNumBonds())"
      ]
    },
    {
      "cell_type": "markdown",
      "metadata": {
        "id": "5ch4vabFuReu"
      },
      "source": [
        "## Ex 2 Read data from chemical file format\n",
        "\n",
        "Apart SMILES, .SDF/ .Mol are also the common formats to save molecules. RDKit provides also functionalities to read these files.\n",
        "\n",
        "\n",
        "Morphine is an opioid agonist used for the relief of moderate to severe acute and chronic pain. The chemical information of this drug can be found at\n",
        "the following url: https://go.drugbank.com/structures/small_molecule_drugs/DB00295.sdf\n",
        "\n",
        "\n",
        "1. Download this file and save it in a folder.\n",
        "\n",
        "\n",
        "2. Read the morphine molecule from the file that you've downloaded using \"rdkit.Chem.SDMolSupplier\"\n",
        "\n",
        "\n",
        "3. With the help of rdkit.Chem.AllChem.GetMorganFingerprintAsBitVect, compute its fingerprint as a bit vector."
      ]
    },
    {
      "cell_type": "code",
      "execution_count": 8,
      "metadata": {
        "id": "9VLF599Yv5V1"
      },
      "outputs": [
        {
          "name": "stderr",
          "output_type": "stream",
          "text": [
            "[16:24:09] DEPRECATION WARNING: please use MorganGenerator\n"
          ]
        },
        {
          "data": {
            "text/plain": [
              "'00000000000000000000000000000000000000000000000000000000000000000001000000000100000000000000000000000000000000000000000000000000000000000000000000000000000000000000000000000000000000000000000000000000000000000001000000000000000000010000000000000000000000000000000000000000000000000000000000000000100000000000000100000000000000000000000000000000000000000000000000000000000000000000000000000000000000000000000000000100000000000000000000000000000000000000000000000000000000000000000000000010000000000100000000000000000000000000000000000000000000000000000000100000000000000100000000001001000000000000000000000000000000000000000000000000000000000000000000000000100000000000000000000000000000000000000000000000010000000000000000000000000000000000000000000010000000000000000000000000000000000000000000000000000000010000000000000000000000000000000000000000000000000000000000000000010000000000000000000000000000000000000000000000000000100000000100001000000000000000000000000000000000000000000000000000000000000000000000000000000100000000000000000001000000000000000001001000000000000000000000010000000000000000000000000000000000000000000000000000000000000100000000000000001000000001001000000000000000000000000000000000000000000000000000000000000010000000000000000000010000000000000000000000000000000000001000000000000000000000000000000000000000000000000000000000000000000000000000000000000010000000000000000000000000000000000000000000000000001000000000000000000000000000000000000000000100001000000000000000000000000000000000000000000000000000000000000000000000000000010000000000000000000000000000000000000000000010000100000000000000100000000000000000000000000000000000000000000000010000000000000000010000000000000000000000000000000000000000000000000000000000001000000000000000000000000000000000000000000000000000000000000000000000000000000000000000000000000000000000000000000000000001000000000000000000000000000000000000000000000000000000000000000000000000000000000000000000000000000000000010000000000000000000000000000000000000000000000000000000000000000000'"
            ]
          },
          "execution_count": 8,
          "metadata": {},
          "output_type": "execute_result"
        }
      ],
      "source": [
        "from rdkit.Chem import SDMolSupplier\n",
        "from rdkit.Chem.AllChem import GetMorganFingerprintAsBitVect\n",
        "\n",
        "suppl = SDMolSupplier('DB00295.sdf')\n",
        "morphine = next(suppl)\n",
        "\n",
        "vectMorphine = GetMorganFingerprintAsBitVect(morphine, 2)\n",
        "vectMorphine.ToBitString()"
      ]
    },
    {
      "cell_type": "markdown",
      "metadata": {
        "id": "gljbmF6p3RX8"
      },
      "source": [
        "## EX3. Fingerprints\n",
        "\n",
        "\n",
        "A chemical structure can be characterized by a set of numerical values known as molecular fingerprints. They may be 2D Fragment-based fingerprints presented by bit arrays of 0s and 1s wherein each bit position indicates the presence or absence of structural fragments.\n",
        "\n",
        "\n",
        "The RDKit has a variety of built-in functionality for generating molecular fingerprints and then using them to calculate molecular similarity. In this exercise, we will generate the fingerprints for parcetamol and aspirin that are two popular drugs used for pains.\n",
        "\n",
        "\n",
        "\n",
        "1. Compute the fingerprint of the paracetamol as bit vector by using the rdkit.AllChem.GetMorganFingerprintAsBitVectCompute Class. Convert it to a numpy vector. Known that Paracetamol's SMILES is \"\"CC(=O)OC1=CC=CC=C1C(O)=O\". Choose the number of bits nBits= 1024. Find the elements that are nonzero of the vector.\n",
        "\n",
        "2. Do the same thing for the aspirin. Aspirin's SMILES is \"CC(=O)NC1=CC=C(O)C=C1\".\n",
        "\n",
        "\n",
        "\n",
        "3. Using rdkit.DataStructs.DiceSimilarity(), compute the DiceSimilarity between the fingerprints of the paracetamol and the aspirin."
      ]
    },
    {
      "cell_type": "code",
      "execution_count": 9,
      "metadata": {
        "id": "8PALjOz5232Z"
      },
      "outputs": [
        {
          "name": "stderr",
          "output_type": "stream",
          "text": [
            "[16:24:09] DEPRECATION WARNING: please use MorganGenerator\n",
            "[16:24:09] DEPRECATION WARNING: please use MorganGenerator\n"
          ]
        },
        {
          "data": {
            "text/plain": [
              "(19, 24)"
            ]
          },
          "execution_count": 9,
          "metadata": {},
          "output_type": "execute_result"
        }
      ],
      "source": [
        "paracetamol = \"CC(=O)NC1=CC=C(C=C1)O\"\n",
        "aspirin = \"CC(=O)OC1=CC=CC=C1C(=O)O\"\n",
        "\n",
        "molParacetamol = MolFromSmiles(paracetamol)\n",
        "molAspirin = MolFromSmiles(aspirin)\n",
        "\n",
        "vectParacetamol = GetMorganFingerprintAsBitVect(molParacetamol, 2, nBits=1024)\n",
        "vectAspirin = GetMorganFingerprintAsBitVect(molAspirin, 2, nBits=1024)\n",
        "\n",
        "vectParacetamol.GetNumOnBits(), vectAspirin.GetNumOnBits()"
      ]
    },
    {
      "cell_type": "code",
      "execution_count": 10,
      "metadata": {},
      "outputs": [
        {
          "data": {
            "text/plain": [
              "0.37209302325581395"
            ]
          },
          "execution_count": 10,
          "metadata": {},
          "output_type": "execute_result"
        }
      ],
      "source": [
        "from rdkit import DataStructs\n",
        "\n",
        "similarity = DataStructs.DiceSimilarity(vectParacetamol, vectAspirin)\n",
        "similarity"
      ]
    },
    {
      "cell_type": "markdown",
      "metadata": {
        "id": "GZXsjZGw3ofC"
      },
      "source": [
        "## EX 4: Descriptors\n",
        "\n",
        "Molecules are also described by a set of physiochemical descriptors. They should be the log partition coefficient, the polar surface area ... that describe the molecule's structure.\n",
        "\n",
        "\n",
        "RDKit provides utilities that allow us to compute descriptor of molecules.\n",
        "Using the rdkit.ML.Descriptors.MoleculeDescriptors.MolecularDescriptorCalculator class, compute the descriptor for paracetamol molecule from SMILES string. Note that SMILES string for paracetamol is \"CC(=O)NC1=CC=C(O)C=C1\"\n",
        "\n"
      ]
    },
    {
      "cell_type": "code",
      "execution_count": 11,
      "metadata": {
        "id": "vQcACF5K3l1y"
      },
      "outputs": [
        {
          "name": "stdout",
          "output_type": "stream",
          "text": [
            "MaxAbsEStateIndex 10.524468537414966\n",
            "MaxEStateIndex 10.524468537414966\n",
            "MinAbsEStateIndex 0.11510204081632636\n",
            "MinEStateIndex -0.11510204081632636\n",
            "qed 0.5950261967780848\n",
            "SPS 9.181818181818182\n",
            "MolWt 151.165\n",
            "HeavyAtomMolWt 142.093\n",
            "ExactMolWt 151.063328528\n",
            "NumValenceElectrons 58\n",
            "NumRadicalElectrons 0\n",
            "MaxPartialCharge 0.22074743631242583\n",
            "MinPartialCharge -0.5079643157925783\n",
            "MaxAbsPartialCharge 0.5079643157925783\n",
            "MinAbsPartialCharge 0.22074743631242583\n",
            "FpDensityMorgan1 1.3636363636363635\n",
            "FpDensityMorgan2 1.9090909090909092\n",
            "FpDensityMorgan3 2.3636363636363638\n",
            "BCUT2D_MWHI 16.254688714379654\n",
            "BCUT2D_MWLOW 10.280190859964755\n",
            "BCUT2D_CHGHI 1.9280360590359853\n",
            "BCUT2D_CHGLO -1.9945540738765883\n",
            "BCUT2D_LOGPHI 2.125247579160178\n",
            "BCUT2D_LOGPLOW -2.0440113126102912\n",
            "BCUT2D_MRHI 5.880954784597921\n",
            "BCUT2D_MRLOW -0.11373578338266069\n",
            "AvgIpc 1.9291266251851134\n",
            "BalabanJ 2.7362980721056545\n",
            "BertzCT 253.29949758389105\n",
            "Chi0 8.267584713501616\n",
            "Chi0n 6.164862962722325\n",
            "Chi0v 6.164862962722325\n",
            "Chi1 5.1815405503520555\n",
            "Chi1n 3.2490981480278296\n",
            "Chi1v 3.2490981480278296\n",
            "Chi2n 2.228060242189872\n",
            "Chi2v 2.228060242189872\n",
            "Chi3n 1.1876733148984595\n",
            "Chi3v 1.1876733148984595\n",
            "Chi4n 0.7480265991539318\n",
            "Chi4v 0.7480265991539318\n",
            "HallKierAlpha -1.51\n",
            "Ipc 285.51074052739676\n",
            "Kappa1 7.595374077976819\n",
            "Kappa2 3.0531381005525\n",
            "Kappa3 2.292303972882069\n",
            "LabuteASA 64.66690538413799\n",
            "PEOE_VSA1 10.423315998847038\n",
            "PEOE_VSA10 5.749511833283905\n",
            "PEOE_VSA11 0.0\n",
            "PEOE_VSA12 5.907179729351506\n",
            "PEOE_VSA13 0.0\n",
            "PEOE_VSA14 0.0\n",
            "PEOE_VSA2 4.794537184071822\n",
            "PEOE_VSA3 0.0\n",
            "PEOE_VSA4 0.0\n",
            "PEOE_VSA5 0.0\n",
            "PEOE_VSA6 0.0\n",
            "PEOE_VSA7 24.26546827384644\n",
            "PEOE_VSA8 12.611123474374185\n",
            "PEOE_VSA9 0.0\n",
            "SMR_VSA1 9.901064578912528\n",
            "SMR_VSA10 11.594566004035068\n",
            "SMR_VSA2 0.0\n",
            "SMR_VSA3 0.0\n",
            "SMR_VSA4 0.0\n",
            "SMR_VSA5 6.923737199690624\n",
            "SMR_VSA6 5.316788604006331\n",
            "SMR_VSA7 24.26546827384644\n",
            "SMR_VSA8 0.0\n",
            "SMR_VSA9 5.749511833283905\n",
            "SlogP_VSA1 5.316788604006331\n",
            "SlogP_VSA10 5.687386274683562\n",
            "SlogP_VSA11 5.749511833283905\n",
            "SlogP_VSA12 0.0\n",
            "SlogP_VSA2 11.013707124192212\n",
            "SlogP_VSA3 4.794537184071822\n",
            "SlogP_VSA4 0.0\n",
            "SlogP_VSA5 6.923737199690624\n",
            "SlogP_VSA6 24.26546827384644\n",
            "SlogP_VSA7 0.0\n",
            "SlogP_VSA8 0.0\n",
            "SlogP_VSA9 0.0\n",
            "TPSA 49.33\n",
            "EState_VSA1 0.0\n",
            "EState_VSA10 4.794537184071822\n",
            "EState_VSA11 0.0\n",
            "EState_VSA2 11.65669156263541\n",
            "EState_VSA3 5.687386274683562\n",
            "EState_VSA4 0.0\n",
            "EState_VSA5 19.056471336613843\n",
            "EState_VSA6 12.13273413692322\n",
            "EState_VSA7 0.0\n",
            "EState_VSA8 5.316788604006331\n",
            "EState_VSA9 5.106527394840706\n",
            "VSA_EState1 0.0\n",
            "VSA_EState10 0.0\n",
            "VSA_EState2 10.524468537414966\n",
            "VSA_EState3 11.460032596371882\n",
            "VSA_EState4 0.6900925925925929\n",
            "VSA_EState5 0.07851095993953172\n",
            "VSA_EState6 6.309537037037037\n",
            "VSA_EState7 0.0\n",
            "VSA_EState8 1.437358276643991\n",
            "VSA_EState9 0.0\n",
            "FractionCSP3 0.125\n",
            "HeavyAtomCount 11\n",
            "NHOHCount 2\n",
            "NOCount 3\n",
            "NumAliphaticCarbocycles 0\n",
            "NumAliphaticHeterocycles 0\n",
            "NumAliphaticRings 0\n",
            "NumAromaticCarbocycles 1\n",
            "NumAromaticHeterocycles 0\n",
            "NumAromaticRings 1\n",
            "NumHAcceptors 2\n",
            "NumHDonors 2\n",
            "NumHeteroatoms 3\n",
            "NumRotatableBonds 1\n",
            "NumSaturatedCarbocycles 0\n",
            "NumSaturatedHeterocycles 0\n",
            "NumSaturatedRings 0\n",
            "RingCount 1\n",
            "MolLogP 1.3505999999999998\n",
            "MolMR 42.41050000000002\n",
            "fr_Al_COO 0\n",
            "fr_Al_OH 0\n",
            "fr_Al_OH_noTert 0\n",
            "fr_ArN 0\n",
            "fr_Ar_COO 0\n",
            "fr_Ar_N 0\n",
            "fr_Ar_NH 0\n",
            "fr_Ar_OH 1\n",
            "fr_COO 0\n",
            "fr_COO2 0\n",
            "fr_C_O 1\n",
            "fr_C_O_noCOO 1\n",
            "fr_C_S 0\n",
            "fr_HOCCN 0\n",
            "fr_Imine 0\n",
            "fr_NH0 0\n",
            "fr_NH1 1\n",
            "fr_NH2 0\n",
            "fr_N_O 0\n",
            "fr_Ndealkylation1 0\n",
            "fr_Ndealkylation2 0\n",
            "fr_Nhpyrrole 0\n",
            "fr_SH 0\n",
            "fr_aldehyde 0\n",
            "fr_alkyl_carbamate 0\n",
            "fr_alkyl_halide 0\n",
            "fr_allylic_oxid 0\n",
            "fr_amide 1\n",
            "fr_amidine 0\n",
            "fr_aniline 1\n",
            "fr_aryl_methyl 0\n",
            "fr_azide 0\n",
            "fr_azo 0\n",
            "fr_barbitur 0\n",
            "fr_benzene 1\n",
            "fr_benzodiazepine 0\n",
            "fr_bicyclic 0\n",
            "fr_diazo 0\n",
            "fr_dihydropyridine 0\n",
            "fr_epoxide 0\n",
            "fr_ester 0\n",
            "fr_ether 0\n",
            "fr_furan 0\n",
            "fr_guanido 0\n",
            "fr_halogen 0\n",
            "fr_hdrzine 0\n",
            "fr_hdrzone 0\n",
            "fr_imidazole 0\n",
            "fr_imide 0\n",
            "fr_isocyan 0\n",
            "fr_isothiocyan 0\n",
            "fr_ketone 0\n",
            "fr_ketone_Topliss 0\n",
            "fr_lactam 0\n",
            "fr_lactone 0\n",
            "fr_methoxy 0\n",
            "fr_morpholine 0\n",
            "fr_nitrile 0\n",
            "fr_nitro 0\n",
            "fr_nitro_arom 0\n",
            "fr_nitro_arom_nonortho 0\n",
            "fr_nitroso 0\n",
            "fr_oxazole 0\n",
            "fr_oxime 0\n",
            "fr_para_hydroxylation 0\n",
            "fr_phenol 1\n",
            "fr_phenol_noOrthoHbond 1\n",
            "fr_phos_acid 0\n",
            "fr_phos_ester 0\n",
            "fr_piperdine 0\n",
            "fr_piperzine 0\n",
            "fr_priamide 0\n",
            "fr_prisulfonamd 0\n",
            "fr_pyridine 0\n",
            "fr_quatN 0\n",
            "fr_sulfide 0\n",
            "fr_sulfonamd 0\n",
            "fr_sulfone 0\n",
            "fr_term_acetylene 0\n",
            "fr_tetrazole 0\n",
            "fr_thiazole 0\n",
            "fr_thiocyan 0\n",
            "fr_thiophene 0\n",
            "fr_unbrch_alkane 0\n",
            "fr_urea 0\n"
          ]
        }
      ],
      "source": [
        "from rdkit.ML.Descriptors.MoleculeDescriptors import MolecularDescriptorCalculator\n",
        "from rdkit.Chem import Descriptors\n",
        "\n",
        "descriptor_names = [desc[0] for desc in Descriptors._descList]\n",
        "calc = MolecularDescriptorCalculator(descriptor_names)\n",
        "res = calc.CalcDescriptors(molParacetamol)\n",
        "\n",
        "for name, value in zip(descriptor_names, res):\n",
        "    print(name, value)"
      ]
    },
    {
      "cell_type": "markdown",
      "metadata": {
        "id": "SvHtYagP31vo"
      },
      "source": [
        "## Ex5: SMART\n",
        "\n",
        "In many commonly used applications, we need to determine whether atoms in a molecule match a particular pattern. It can be used for filtering structures or identifying substructures that are associated with toxicological problem.\n",
        "\n",
        "SMART us an extension of the SMILES language that can be used to create queries.\n",
        "\n",
        "1. Find molecules in the following list named \"smiles_list\" that contain the \"CCC\" pattern (you can use the GetSubstructMatch class).\n",
        "\n",
        "\n",
        "2. Highlight the pattern \"CCC\" in these molecules.\n",
        "\n",
        "\n",
        "3. Do the same thing ex 1 but for the pattern \"C(=O)N\"."
      ]
    },
    {
      "cell_type": "code",
      "execution_count": 12,
      "metadata": {
        "id": "mXqKwAO03xQi"
      },
      "outputs": [],
      "source": [
        "from rdkit import Chem\n",
        "\n",
        "pattern = Chem.MolFromSmarts(\"C(=O)N\")\n",
        "matching_molecules = []\n",
        "smiles_list = [paracetamol, aspirin]\n",
        "\n",
        "for smiles in smiles_list:\n",
        "    mol = Chem.MolFromSmiles(smiles)\n",
        "    if mol is not None and mol.HasSubstructMatch(pattern):\n",
        "        matching_molecules.append(mol)\n",
        "\n",
        "highlighted_images = []\n",
        "\n",
        "for mol in matching_molecules:\n",
        "    match = mol.GetSubstructMatch(pattern)\n",
        "    img = Draw.MolToImage(mol, highlightAtoms=match)\n",
        "    highlighted_images.append(img)\n",
        "\n",
        "for i, img in enumerate(highlighted_images):\n",
        "    img.show()"
      ]
    },
    {
      "cell_type": "markdown",
      "metadata": {
        "id": "UxbRPmkS4LSq"
      },
      "source": [
        "## Ex6: Machine learning with RDkit - Predict solubility\n",
        "\n",
        "In this exercise, we will use machine learning to predict solubility of molecules. For this purpose, we will borrow a dataset from rdkit that is originated from the Huuskonen dataset. We will try to predict Aqueous Solubility for molecules that is known as \"logS\".\n",
        "\n",
        "\n",
        "This exercise is divided into 3 parts: Preparing a dataset, training a model and preparing dataset for prediction and applying a predictive model.\n",
        "\n"
      ]
    },
    {
      "cell_type": "markdown",
      "metadata": {
        "id": "FpqVGPg_4QaQ"
      },
      "source": [
        "## EX6.I Preparing dataset\n",
        "\n",
        "Preparing dataset requires a few steps:\n",
        "\n",
        "\n",
        "1. Download file from the following link: https://raw.githubusercontent.com/rdkit/rdkit/master/Docs/Book/data/solubility.train.sdf.\n",
        "\n",
        "\n",
        "2. With the help of rdkit.Chem.SDMolSupplier, get list of molecules contained in this file. You should call this list as **molecule_list**. The option **removeHs=False** should be chosen.\n",
        "\n",
        "\n",
        "3. Write a function named **calculate_descriptors(mol)** that allows us to calculate descriptors of a molecule. This function takes a Rdkit molecule as input and returns an array vector of descriptors.\n",
        "\n",
        "\n",
        "4. Apply the function **caluclate_descriptors** to the list of molecules **molecule_list** and store the result in a dataframe named **df**. Look at few rows of **df** to see whether the descriptors are calculated.\n",
        "\n",
        "\n",
        "5. For each molecule from this dataset, we can get the aqueous solubility (logS) via attribute **getProp('SOL')**. Create a list that contains the aqueous solubility of all molecules from the **molecule_list** list. You should call this list by **labels**. Remember to convert these values to float format.\n",
        "\n",
        "\n",
        "6. Plot the histogram of the \"labels\" list to see the distribution of the solubility of molecules. Do you have some comments about the aqueous solubility of molecules ?\n",
        "\n"
      ]
    },
    {
      "cell_type": "code",
      "execution_count": 13,
      "metadata": {},
      "outputs": [
        {
          "name": "stdout",
          "output_type": "stream",
          "text": [
            "--2024-10-02 16:24:09--  https://raw.githubusercontent.com/rdkit/rdkit/master/Docs/Book/data/solubility.train.sdf\n",
            "Resolving raw.githubusercontent.com (raw.githubusercontent.com)... 185.199.108.133, 185.199.111.133, 185.199.109.133, ...\n",
            "Connecting to raw.githubusercontent.com (raw.githubusercontent.com)|185.199.108.133|:443... connected.\n",
            "HTTP request sent, awaiting response... 200 OK\n",
            "Length: 1376487 (1,3M) [text/plain]\n",
            "Saving to: ‘solubility.train.sdf.1’\n",
            "\n",
            "solubility.train.sd 100%[===================>]   1,31M  --.-KB/s    in 0,09s   \n",
            "\n",
            "2024-10-02 16:24:10 (13,9 MB/s) - ‘solubility.train.sdf.1’ saved [1376487/1376487]\n",
            "\n"
          ]
        }
      ],
      "source": [
        "! wget https://raw.githubusercontent.com/rdkit/rdkit/master/Docs/Book/data/solubility.train.sdf"
      ]
    },
    {
      "cell_type": "code",
      "execution_count": 14,
      "metadata": {
        "colab": {
          "base_uri": "https://localhost:8080/"
        },
        "id": "uAuDoU7u3_k4",
        "outputId": "3bc721ba-ff2f-47fb-b13a-5c95853a8d55"
      },
      "outputs": [
        {
          "data": {
            "text/plain": [
              "1025"
            ]
          },
          "execution_count": 14,
          "metadata": {},
          "output_type": "execute_result"
        }
      ],
      "source": [
        "molecule_list = []\n",
        "suppl = Chem.SDMolSupplier('solubility.train.sdf', removeHs=False)\n",
        "for mol in suppl:\n",
        "    molecule_list.append(mol)\n",
        "\n",
        "len(molecule_list)"
      ]
    },
    {
      "cell_type": "code",
      "execution_count": 15,
      "metadata": {
        "id": "YKgrdNjowHCW"
      },
      "outputs": [],
      "source": [
        "def calculate_descriptors(mol):\n",
        "    res = calc.CalcDescriptors(mol)\n",
        "    return res"
      ]
    },
    {
      "cell_type": "code",
      "execution_count": 16,
      "metadata": {},
      "outputs": [
        {
          "data": {
            "text/html": [
              "<div>\n",
              "<style scoped>\n",
              "    .dataframe tbody tr th:only-of-type {\n",
              "        vertical-align: middle;\n",
              "    }\n",
              "\n",
              "    .dataframe tbody tr th {\n",
              "        vertical-align: top;\n",
              "    }\n",
              "\n",
              "    .dataframe thead th {\n",
              "        text-align: right;\n",
              "    }\n",
              "</style>\n",
              "<table border=\"1\" class=\"dataframe\">\n",
              "  <thead>\n",
              "    <tr style=\"text-align: right;\">\n",
              "      <th></th>\n",
              "      <th>0</th>\n",
              "      <th>1</th>\n",
              "      <th>2</th>\n",
              "      <th>3</th>\n",
              "      <th>4</th>\n",
              "      <th>5</th>\n",
              "      <th>6</th>\n",
              "      <th>7</th>\n",
              "      <th>8</th>\n",
              "      <th>9</th>\n",
              "      <th>...</th>\n",
              "      <th>200</th>\n",
              "      <th>201</th>\n",
              "      <th>202</th>\n",
              "      <th>203</th>\n",
              "      <th>204</th>\n",
              "      <th>205</th>\n",
              "      <th>206</th>\n",
              "      <th>207</th>\n",
              "      <th>208</th>\n",
              "      <th>209</th>\n",
              "    </tr>\n",
              "  </thead>\n",
              "  <tbody>\n",
              "    <tr>\n",
              "      <th>0</th>\n",
              "      <td>2.211806</td>\n",
              "      <td>2.211806</td>\n",
              "      <td>1.343750</td>\n",
              "      <td>1.343750</td>\n",
              "      <td>0.468786</td>\n",
              "      <td>8.4</td>\n",
              "      <td>72.151</td>\n",
              "      <td>60.055</td>\n",
              "      <td>72.09390</td>\n",
              "      <td>32</td>\n",
              "      <td>...</td>\n",
              "      <td>0</td>\n",
              "      <td>0</td>\n",
              "      <td>0</td>\n",
              "      <td>0</td>\n",
              "      <td>0</td>\n",
              "      <td>0</td>\n",
              "      <td>0</td>\n",
              "      <td>0</td>\n",
              "      <td>2</td>\n",
              "      <td>0</td>\n",
              "    </tr>\n",
              "    <tr>\n",
              "      <th>1</th>\n",
              "      <td>1.500000</td>\n",
              "      <td>1.500000</td>\n",
              "      <td>1.500000</td>\n",
              "      <td>1.500000</td>\n",
              "      <td>0.408362</td>\n",
              "      <td>24.0</td>\n",
              "      <td>70.135</td>\n",
              "      <td>60.055</td>\n",
              "      <td>70.07825</td>\n",
              "      <td>30</td>\n",
              "      <td>...</td>\n",
              "      <td>0</td>\n",
              "      <td>0</td>\n",
              "      <td>0</td>\n",
              "      <td>0</td>\n",
              "      <td>0</td>\n",
              "      <td>0</td>\n",
              "      <td>0</td>\n",
              "      <td>0</td>\n",
              "      <td>0</td>\n",
              "      <td>0</td>\n",
              "    </tr>\n",
              "    <tr>\n",
              "      <th>2</th>\n",
              "      <td>2.231806</td>\n",
              "      <td>2.231806</td>\n",
              "      <td>1.355000</td>\n",
              "      <td>1.355000</td>\n",
              "      <td>0.462954</td>\n",
              "      <td>9.0</td>\n",
              "      <td>86.178</td>\n",
              "      <td>72.066</td>\n",
              "      <td>86.10955</td>\n",
              "      <td>38</td>\n",
              "      <td>...</td>\n",
              "      <td>0</td>\n",
              "      <td>0</td>\n",
              "      <td>0</td>\n",
              "      <td>0</td>\n",
              "      <td>0</td>\n",
              "      <td>0</td>\n",
              "      <td>0</td>\n",
              "      <td>0</td>\n",
              "      <td>3</td>\n",
              "      <td>0</td>\n",
              "    </tr>\n",
              "    <tr>\n",
              "      <th>3</th>\n",
              "      <td>2.253472</td>\n",
              "      <td>2.253472</td>\n",
              "      <td>0.898148</td>\n",
              "      <td>0.898148</td>\n",
              "      <td>0.483890</td>\n",
              "      <td>10.0</td>\n",
              "      <td>86.178</td>\n",
              "      <td>72.066</td>\n",
              "      <td>86.10955</td>\n",
              "      <td>38</td>\n",
              "      <td>...</td>\n",
              "      <td>0</td>\n",
              "      <td>0</td>\n",
              "      <td>0</td>\n",
              "      <td>0</td>\n",
              "      <td>0</td>\n",
              "      <td>0</td>\n",
              "      <td>0</td>\n",
              "      <td>0</td>\n",
              "      <td>0</td>\n",
              "      <td>0</td>\n",
              "    </tr>\n",
              "    <tr>\n",
              "      <th>4</th>\n",
              "      <td>2.243056</td>\n",
              "      <td>2.243056</td>\n",
              "      <td>0.541667</td>\n",
              "      <td>0.541667</td>\n",
              "      <td>0.424482</td>\n",
              "      <td>12.0</td>\n",
              "      <td>86.178</td>\n",
              "      <td>72.066</td>\n",
              "      <td>86.10955</td>\n",
              "      <td>38</td>\n",
              "      <td>...</td>\n",
              "      <td>0</td>\n",
              "      <td>0</td>\n",
              "      <td>0</td>\n",
              "      <td>0</td>\n",
              "      <td>0</td>\n",
              "      <td>0</td>\n",
              "      <td>0</td>\n",
              "      <td>0</td>\n",
              "      <td>0</td>\n",
              "      <td>0</td>\n",
              "    </tr>\n",
              "  </tbody>\n",
              "</table>\n",
              "<p>5 rows × 210 columns</p>\n",
              "</div>"
            ],
            "text/plain": [
              "        0         1         2         3         4     5       6       7    \\\n",
              "0  2.211806  2.211806  1.343750  1.343750  0.468786   8.4  72.151  60.055   \n",
              "1  1.500000  1.500000  1.500000  1.500000  0.408362  24.0  70.135  60.055   \n",
              "2  2.231806  2.231806  1.355000  1.355000  0.462954   9.0  86.178  72.066   \n",
              "3  2.253472  2.253472  0.898148  0.898148  0.483890  10.0  86.178  72.066   \n",
              "4  2.243056  2.243056  0.541667  0.541667  0.424482  12.0  86.178  72.066   \n",
              "\n",
              "        8    9    ...  200  201  202  203  204  205  206  207  208  209  \n",
              "0  72.09390   32  ...    0    0    0    0    0    0    0    0    2    0  \n",
              "1  70.07825   30  ...    0    0    0    0    0    0    0    0    0    0  \n",
              "2  86.10955   38  ...    0    0    0    0    0    0    0    0    3    0  \n",
              "3  86.10955   38  ...    0    0    0    0    0    0    0    0    0    0  \n",
              "4  86.10955   38  ...    0    0    0    0    0    0    0    0    0    0  \n",
              "\n",
              "[5 rows x 210 columns]"
            ]
          },
          "execution_count": 16,
          "metadata": {},
          "output_type": "execute_result"
        }
      ],
      "source": [
        "import pandas as pd\n",
        "\n",
        "df = pd.DataFrame([calculate_descriptors(mol) for mol in molecule_list])\n",
        "df.head()"
      ]
    },
    {
      "cell_type": "code",
      "execution_count": 17,
      "metadata": {},
      "outputs": [
        {
          "name": "stdout",
          "output_type": "stream",
          "text": [
            "[-3.18, -2.64, -3.84, -3.74, -3.55]\n"
          ]
        }
      ],
      "source": [
        "labels = []\n",
        "for mol in molecule_list:\n",
        "    if mol is not None:  \n",
        "        solubility = mol.GetProp('SOL')\n",
        "        labels.append(float(solubility))\n",
        "\n",
        "print(labels[:5])"
      ]
    },
    {
      "cell_type": "code",
      "execution_count": 18,
      "metadata": {},
      "outputs": [
        {
          "data": {
            "image/png": "[encoded data removed]",
            "text/plain": [
              "<Figure size 800x600 with 1 Axes>"
            ]
          },
          "metadata": {},
          "output_type": "display_data"
        }
      ],
      "source": [
        "import matplotlib.pyplot as plt\n",
        "import seaborn as sns\n",
        "\n",
        "plt.figure(figsize=(8, 6))\n",
        "sns.histplot(labels, bins=30, kde=True)\n",
        "\n",
        "plt.title('Distribution of Aqueous Solubility (logS) of Molecules')\n",
        "plt.xlabel('Aqueous Solubility (logS)')\n",
        "plt.ylabel('Frequency')\n",
        "\n",
        "plt.show()"
      ]
    },
    {
      "cell_type": "markdown",
      "metadata": {
        "id": "KRtVHEjH5M9m"
      },
      "source": [
        "## Ex6.II Feature Engineering and Training a model of regression.\n",
        "\n",
        "Now, we have the **df** dataframe that contains the descriptors for molecules and the **labels** list that contains the solvant property of molecules.\n",
        "\n",
        "1. Check the dataframe **df** to see whether it contains NaN values. How many row contained NaN values are there in the dataframe **df** ? Remove these rows from  **df** and **labels**.\n",
        "\n",
        "\n",
        "2. Apply the MinMaxScaler to the dataframe **df** to normalize the data.\n",
        "\n",
        "\n",
        "3. Construct and train a regression model.\n",
        "\n",
        "\n",
        "4. Calculate the square root error for the dataset"
      ]
    },
    {
      "cell_type": "code",
      "execution_count": 19,
      "metadata": {},
      "outputs": [
        {
          "name": "stdout",
          "output_type": "stream",
          "text": [
            "Total number of rows with NaN values: 1\n"
          ]
        }
      ],
      "source": [
        "nan_counts = df.isna().sum()\n",
        "total_nan_rows = df.isna().any(axis=1).sum()\n",
        "print(f\"Total number of rows with NaN values: {total_nan_rows}\")"
      ]
    },
    {
      "cell_type": "code",
      "execution_count": 20,
      "metadata": {},
      "outputs": [
        {
          "name": "stdout",
          "output_type": "stream",
          "text": [
            "New shape of DataFrame after cleaning: (1024, 210)\n",
            "Length of labels after cleaning: 1024\n"
          ]
        }
      ],
      "source": [
        "df_clean = df.dropna()\n",
        "labels_clean = [label for label, mol in zip(labels, molecule_list) if mol is not None and mol.GetProp('SOL') != '']\n",
        "labels_clean = [labels[i] for i in df_clean.index]\n",
        "print(f\"New shape of DataFrame after cleaning: {df_clean.shape}\")\n",
        "print(f\"Length of labels after cleaning: {len(labels_clean)}\")"
      ]
    },
    {
      "cell_type": "code",
      "execution_count": 21,
      "metadata": {},
      "outputs": [
        {
          "name": "stdout",
          "output_type": "stream",
          "text": [
            "        0         1         2         3         4         5         6    \\\n",
            "0  0.045160  0.045160  0.354103  0.913346  0.401233  0.084864  0.042084   \n",
            "1  0.000000  0.000000  0.395291  0.933978  0.323502  0.330025  0.038831   \n",
            "2  0.046428  0.046428  0.357068  0.914831  0.393731  0.094293  0.064721   \n",
            "3  0.047803  0.047803  0.236639  0.854507  0.420664  0.110008  0.064721   \n",
            "4  0.047142  0.047142  0.142668  0.807435  0.344239  0.141439  0.064721   \n",
            "\n",
            "        7         8         9    ...  200  201  202  203  204  205  206  207  \\\n",
            "0  0.033447  0.042052  0.072581  ...  0.0  0.0  0.0  0.0  0.0  0.0  0.0  0.0   \n",
            "1  0.033447  0.038797  0.064516  ...  0.0  0.0  0.0  0.0  0.0  0.0  0.0  0.0   \n",
            "2  0.053504  0.064685  0.096774  ...  0.0  0.0  0.0  0.0  0.0  0.0  0.0  0.0   \n",
            "3  0.053504  0.064685  0.096774  ...  0.0  0.0  0.0  0.0  0.0  0.0  0.0  0.0   \n",
            "4  0.053504  0.064685  0.096774  ...  0.0  0.0  0.0  0.0  0.0  0.0  0.0  0.0   \n",
            "\n",
            "        208  209  \n",
            "0  0.142857  0.0  \n",
            "1  0.000000  0.0  \n",
            "2  0.214286  0.0  \n",
            "3  0.000000  0.0  \n",
            "4  0.000000  0.0  \n",
            "\n",
            "[5 rows x 210 columns]\n"
          ]
        }
      ],
      "source": [
        "from sklearn.preprocessing import MinMaxScaler\n",
        "\n",
        "scaler = MinMaxScaler()\n",
        "df_normalized = pd.DataFrame(scaler.fit_transform(df_clean), columns=df_clean.columns)\n",
        "print(df_normalized.head())"
      ]
    },
    {
      "cell_type": "code",
      "execution_count": 22,
      "metadata": {},
      "outputs": [],
      "source": [
        "from sklearn.model_selection import train_test_split\n",
        "from sklearn.linear_model import LinearRegression\n",
        "\n",
        "X = df_normalized \n",
        "y = labels_clean \n",
        "X_train, X_test, y_train, y_test = train_test_split(X, y, test_size=0.2, random_state=42)\n",
        "\n",
        "model = LinearRegression()\n",
        "model.fit(X_train, y_train)\n",
        "\n",
        "y_pred = model.predict(X_test)"
      ]
    },
    {
      "cell_type": "code",
      "execution_count": 23,
      "metadata": {},
      "outputs": [
        {
          "name": "stdout",
          "output_type": "stream",
          "text": [
            "Root Mean Square Error (RMSE): 0.6698977386741205\n"
          ]
        }
      ],
      "source": [
        "from sklearn.metrics import mean_squared_error\n",
        "import numpy as np\n",
        "\n",
        "rmse = np.sqrt(mean_squared_error(y_test, y_pred))\n",
        "print(f\"Root Mean Square Error (RMSE): {rmse}\")"
      ]
    },
    {
      "cell_type": "markdown",
      "metadata": {
        "id": "kESW-Pem5zPX"
      },
      "source": [
        "## Ex6.III Prepare data for test  and test model\n",
        "\n",
        "\n",
        "1. Download file from : https://github.com/rdkit/rdkit/blob/master/Docs/Book/data/solubility.test.sdf\n",
        "\n",
        "2. Read molecules from this file and store them in a list named **list_molecule_test**.\n",
        "\n",
        "\n",
        "3. Take a molecule from the **list_molecule_test** and then calculate its descriptions thank to the **calculate_descriptors(mol)** function that you've coded above.\n",
        "\n",
        "\n",
        "4. Apply **minmaxscaler** to these descriptors. Note that **minmaxscaler**  is one that you've created at Ex6.II.\n",
        "\n",
        "\n",
        "5. Use the model that you've trained to predict the aqueous solubility (logS) of the molecule. Compare to the real logS value of the molecule.\n",
        "\n",
        "6. (Optional) Calculate the mean square root error of the model for this dataset.\n",
        "\n",
        "\n",
        "\n",
        "Note: If there exists problem of reading the file solubility.test.sdf as\n",
        "\"RDKit ERROR: [09:28:36] ERROR: moving to the beginning of the next molecule\n",
        "RDKit ERROR: [09:32:48] ERROR: Counts line too short: '' on line4\"\n",
        "so, go to the url, click \"raw\" and save this file by hand. The error will be gone away\n"
      ]
    },
    {
      "cell_type": "code",
      "execution_count": 24,
      "metadata": {
        "id": "SMo-oKP-Rhv-"
      },
      "outputs": [
        {
          "name": "stdout",
          "output_type": "stream",
          "text": [
            "Number of test molecules read: 257\n"
          ]
        }
      ],
      "source": [
        "from rdkit import Chem\n",
        "\n",
        "list_molecule_test = []\n",
        "suppl_test = Chem.SDMolSupplier('solubility.test.sdf', removeHs=False)\n",
        "\n",
        "for mol in suppl_test:\n",
        "    if mol is not None:\n",
        "        list_molecule_test.append(mol)\n",
        "\n",
        "print(f\"Number of test molecules read: {len(list_molecule_test)}\")"
      ]
    },
    {
      "cell_type": "code",
      "execution_count": 25,
      "metadata": {},
      "outputs": [
        {
          "name": "stdout",
          "output_type": "stream",
          "text": [
            "Descriptors for the test molecule: (np.float64(2.2777777777777777), np.float64(2.2777777777777777), np.float64(0.9351851851851851), np.float64(0.9351851851851851), 0.48389029808486866, 10.0, 86.178, 72.06599999999999, 86.109550448, 38, 0, -0.04480471003954574, -0.06512847364618164, 0.06512847364618164, 0.04480471003954574, 1.1666666666666667, 1.5, 1.5, 13.945215218109075, 10.080095912679619, 1.8819366832520852, -1.983213102526966, 2.0233630284165125, -1.8454449878734882, 4.410076596695986, 0.5440639288486602, 1.6500224216483543, np.float64(2.7541847860376616), 19.219280948873624, np.float64(4.99156383156272), 4.99156383156272, 4.99156383156272, np.float64(2.808060412490447), 2.808060412490447, 2.808060412490447, 1.9216682964502652, 1.9216682964502652, 1.3938468501173518, 1.3938468501173518, 0.28867513459481287, 0.28867513459481287, 0.0, np.float64(19.800269059780252), 6.0, 3.2, 2.25, 40.563961599812586, 0.0, 0.0, 0.0, 0.0, 0.0, 0.0, 0.0, 0.0, 0.0, 0.0, 33.61285484492389, 5.917906046161393, 0.0, 0.0, 0.0, 0.0, 0.0, 0.0, 5.917906046161393, 33.61285484492389, 0.0, 0.0, 0.0, 0.0, 0.0, 0.0, 0.0, 0.0, 0.0, 0.0, 5.917906046161393, 33.61285484492389, 0.0, 0.0, 0.0, 0.0, 0.0, np.float64(0.0), np.float64(0.0), np.float64(0.0), np.float64(0.0), np.float64(0.0), np.float64(5.917906046161393), np.float64(12.841643245852019), np.float64(0.0), np.float64(0.0), np.float64(20.771211599071872), np.float64(0.0), np.float64(0.0), np.float64(0.0), np.float64(0.0), np.float64(0.0), np.float64(0.0), np.float64(0.9351851851851851), np.float64(0.0), np.float64(2.6597222222222223), np.float64(6.738425925925926), np.float64(0.0), 1.0, 6, 0, 0, 0, 0, 0, 0, 0, 0, 0, 0, 0, 2, 0, 0, 0, 0, 2.442500000000001, 29.74599999999998, 0, 0, 0, 0, 0, 0, 0, 0, 0, 0, 0, 0, 0, 0, 0, 0, 0, 0, 0, 0, 0, 0, 0, 0, 0, 0, 0, 0, 0, 0, 0, 0, 0, 0, 0, 0, 0, 0, 0, 0, 0, 0, 0, 0, 0, 0, 0, 0, 0, 0, 0, 0, 0, 0, 0, 0, 0, 0, 0, 0, 0, 0, 0, 0, 0, 0, 0, 0, 0, 0, 0, 0, 0, 0, 0, 0, 0, 0, 0, 0, 0, 0, 0, 0, 0)\n"
          ]
        }
      ],
      "source": [
        "test_molecule = list_molecule_test[0] \n",
        "test_descriptors = calculate_descriptors(test_molecule)\n",
        "print(f\"Descriptors for the test molecule: {test_descriptors}\")"
      ]
    },
    {
      "cell_type": "code",
      "execution_count": 26,
      "metadata": {},
      "outputs": [
        {
          "name": "stdout",
          "output_type": "stream",
          "text": [
            "Scaled descriptors for the test molecule: [[4.93450562e-02 4.93450562e-02 2.46402446e-01 8.59397339e-01\n",
            "  4.20663874e-01 1.10008271e-01 6.47209760e-02 5.35037697e-02\n",
            "  6.46852580e-02 9.67741935e-02 0.00000000e+00 3.52632411e-02\n",
            "  9.74542356e-01 2.03225924e-02 8.77028110e-02 5.29914530e-01\n",
            "  4.93421053e-01 3.66197183e-01 4.99540236e-03 2.53398280e-01\n",
            "  4.80640151e-01 4.10868741e-01 5.97464298e-01 4.86720010e-01\n",
            "  5.98970262e-02 3.82628396e-01 3.09570933e-01 4.00246663e-01\n",
            "  1.41509298e-02 9.26112236e-02 1.44226702e-01 1.20172904e-01\n",
            "  8.50549882e-02 1.56686338e-01 1.34159521e-01 1.50161462e-01\n",
            "  1.20606995e-01 1.29248808e-01 9.42704083e-02 3.22389649e-02\n",
            "  2.10541198e-02 6.39774859e-01 1.13107819e-09 1.08670896e-01\n",
            "  1.69993758e-01 1.90469742e-03 8.27527231e-02 0.00000000e+00\n",
            "  0.00000000e+00 0.00000000e+00 0.00000000e+00 0.00000000e+00\n",
            "  0.00000000e+00 0.00000000e+00 0.00000000e+00 0.00000000e+00\n",
            "  0.00000000e+00 2.89742514e-01 5.37557892e-02 0.00000000e+00\n",
            "  0.00000000e+00 0.00000000e+00 0.00000000e+00 0.00000000e+00\n",
            "  0.00000000e+00 1.27713334e-01 2.68665929e-01 0.00000000e+00\n",
            "  0.00000000e+00 0.00000000e+00 0.00000000e+00 0.00000000e+00\n",
            "  0.00000000e+00 0.00000000e+00 0.00000000e+00 0.00000000e+00\n",
            "  0.00000000e+00 1.27713334e-01 3.06527542e-01 0.00000000e+00\n",
            "  0.00000000e+00 0.00000000e+00 0.00000000e+00 0.00000000e+00\n",
            "  0.00000000e+00 0.00000000e+00 0.00000000e+00 0.00000000e+00\n",
            "  0.00000000e+00 1.03357352e-01 1.53846154e-01 0.00000000e+00\n",
            "  0.00000000e+00 2.44571084e-01 0.00000000e+00 4.13901131e-02\n",
            "  0.00000000e+00 3.73735630e-02 1.05422520e-01 3.20804102e-01\n",
            "  6.91843003e-01 9.05094302e-02 5.21767722e-01 6.09488609e-01\n",
            "  5.76679201e-01 1.00000000e+00 8.88888889e-02 0.00000000e+00\n",
            "  0.00000000e+00 0.00000000e+00 0.00000000e+00 0.00000000e+00\n",
            "  0.00000000e+00 0.00000000e+00 0.00000000e+00 0.00000000e+00\n",
            "  0.00000000e+00 0.00000000e+00 1.25000000e-01 0.00000000e+00\n",
            "  0.00000000e+00 0.00000000e+00 0.00000000e+00 4.93771673e-01\n",
            "  1.09628619e-01 0.00000000e+00 0.00000000e+00 0.00000000e+00\n",
            "  0.00000000e+00 0.00000000e+00 0.00000000e+00 0.00000000e+00\n",
            "  0.00000000e+00 0.00000000e+00 0.00000000e+00 0.00000000e+00\n",
            "  0.00000000e+00 0.00000000e+00 0.00000000e+00 0.00000000e+00\n",
            "  0.00000000e+00 0.00000000e+00 0.00000000e+00 0.00000000e+00\n",
            "  0.00000000e+00 0.00000000e+00 0.00000000e+00 0.00000000e+00\n",
            "  0.00000000e+00 0.00000000e+00 0.00000000e+00 0.00000000e+00\n",
            "  0.00000000e+00 0.00000000e+00 0.00000000e+00 0.00000000e+00\n",
            "  0.00000000e+00 0.00000000e+00 0.00000000e+00 0.00000000e+00\n",
            "  0.00000000e+00 0.00000000e+00 0.00000000e+00 0.00000000e+00\n",
            "  0.00000000e+00 0.00000000e+00 0.00000000e+00 0.00000000e+00\n",
            "  0.00000000e+00 0.00000000e+00 0.00000000e+00 0.00000000e+00\n",
            "  0.00000000e+00 0.00000000e+00 0.00000000e+00 0.00000000e+00\n",
            "  0.00000000e+00 0.00000000e+00 0.00000000e+00 0.00000000e+00\n",
            "  0.00000000e+00 0.00000000e+00 0.00000000e+00 0.00000000e+00\n",
            "  0.00000000e+00 0.00000000e+00 0.00000000e+00 0.00000000e+00\n",
            "  0.00000000e+00 0.00000000e+00 0.00000000e+00 0.00000000e+00\n",
            "  0.00000000e+00 0.00000000e+00 0.00000000e+00 0.00000000e+00\n",
            "  0.00000000e+00 0.00000000e+00 0.00000000e+00 0.00000000e+00\n",
            "  0.00000000e+00 0.00000000e+00 0.00000000e+00 0.00000000e+00\n",
            "  0.00000000e+00 0.00000000e+00 0.00000000e+00 0.00000000e+00\n",
            "  0.00000000e+00 0.00000000e+00]]\n"
          ]
        }
      ],
      "source": [
        "test_descriptors_scaled = scaler.transform([test_descriptors])\n",
        "print(f\"Scaled descriptors for the test molecule: {test_descriptors_scaled}\")"
      ]
    },
    {
      "cell_type": "code",
      "execution_count": 27,
      "metadata": {},
      "outputs": [
        {
          "name": "stdout",
          "output_type": "stream",
          "text": [
            "Predicted logS: -3.36212158203125\n",
            "Real logS: -3.68\n"
          ]
        }
      ],
      "source": [
        "predicted_logS = model.predict(test_descriptors_scaled)\n",
        "real_logS = float(test_molecule.GetProp('SOL'))\n",
        "print(f\"Predicted logS: {predicted_logS[0]}\")\n",
        "print(f\"Real logS: {real_logS}\")"
      ]
    },
    {
      "cell_type": "code",
      "execution_count": null,
      "metadata": {},
      "outputs": [],
      "source": []
    }
  ],
  "metadata": {
    "colab": {
      "provenance": []
    },
    "kernelspec": {
      "display_name": "Python 3",
      "name": "python3"
    },
    "language_info": {
      "codemirror_mode": {
        "name": "ipython",
        "version": 3
      },
      "file_extension": ".py",
      "mimetype": "text/x-python",
      "name": "python",
      "nbconvert_exporter": "python",
      "pygments_lexer": "ipython3",
      "version": "3.12.2"
    }
  },
  "nbformat": 4,
  "nbformat_minor": 0
}
